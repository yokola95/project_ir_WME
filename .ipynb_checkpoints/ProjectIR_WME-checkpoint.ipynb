{
 "cells": [
  {
   "cell_type": "raw",
   "metadata": {
    "collapsed": true
   },
   "source": [
    "# Useful commands for installing missing dependencies (to be used on jupyter notebook)\n",
    "\n",
    "import sys\n",
    "!conda install --yes --prefix {sys.prefix} gensim\n",
    "!conda install --yes --prefix {sys.prefix} --no-update-dependencies -c conda-forge pulp\n"
   ]
  },
  {
   "cell_type": "markdown",
   "metadata": {},
   "source": [
    "Importing all required dependencies"
   ]
  },
  {
   "cell_type": "code",
   "execution_count": 374,
   "metadata": {
    "collapsed": true
   },
   "outputs": [],
   "source": [
    "from itertools import product\n",
    "from collections import defaultdict\n",
    "import numpy as np\n",
    "from scipy.spatial.distance import euclidean\n",
    "from scipy.spatial.distance import cosine\n",
    "import pulp\n",
    "import gensim\n",
    "from sklearn.metrics.pairwise import cosine_similarity\n",
    "import json"
   ]
  },
  {
   "cell_type": "markdown",
   "metadata": {},
   "source": [
    "Importing Word2Vec model (https://code.google.com/archive/p/word2vec/). The next block may require a long time!"
   ]
  },
  {
   "cell_type": "code",
   "execution_count": 15,
   "metadata": {
    "collapsed": true
   },
   "outputs": [],
   "source": [
    "wvmodel = gensim.models.KeyedVectors.load_word2vec_format(r'C:\\Users\\User\\Desktop\\projectIR\\GoogleNews-vectors-negative300.bin\\GoogleNews-vectors-negative300.bin', binary=True)"
   ]
  },
  {
   "cell_type": "markdown",
   "metadata": {},
   "source": [
    "Testing Word2Vec model (@Mario: Nota quanto cazzo è incredibile sta cosa)"
   ]
  },
  {
   "cell_type": "code",
   "execution_count": 16,
   "metadata": {
    "collapsed": true
   },
   "outputs": [],
   "source": [
    "x_test = wvmodel['man']+wvmodel['king']-wvmodel['woman']\n",
    "y_test = wvmodel['queen']\n",
    "z_test = wvmodel['boat']"
   ]
  },
  {
   "cell_type": "code",
   "execution_count": 17,
   "metadata": {},
   "outputs": [
    {
     "name": "stdout",
     "output_type": "stream",
     "text": [
      "[[0.4057604]]\n",
      "[[0.01503608]]\n"
     ]
    }
   ],
   "source": [
    "print(cosine_similarity([x_test], [y_test]))\n",
    "print(cosine_similarity([x_test], [z_test]))"
   ]
  },
  {
   "cell_type": "markdown",
   "metadata": {},
   "source": [
    "Here we initialize the collection&nbsp;. https://kdd.ics.uci.edu/databases/20newsgroups/20newsgroups.html &nbsp;\n",
    "We use the smaller dataset (called mini). We tokenize all documents and assign to every document an unique ID and a label (depending on the group it came from). "
   ]
  },
  {
   "cell_type": "code",
   "execution_count": 18,
   "metadata": {
    "collapsed": true
   },
   "outputs": [],
   "source": [
    "# To do, parse all documents and get the list of tokens (We remove capital letters?)"
   ]
  },
  {
   "cell_type": "markdown",
   "metadata": {},
   "source": [
    "Useful functions"
   ]
  },
  {
   "cell_type": "code",
   "execution_count": 19,
   "metadata": {
    "collapsed": true
   },
   "outputs": [],
   "source": [
    "def merge_two_dicts(x, y):\n",
    "    z = x.copy()   # start with x's keys and values\n",
    "    z.update(y)    # modifies z with y's keys and values & returns None\n",
    "    return z"
   ]
  },
  {
   "cell_type": "code",
   "execution_count": 86,
   "metadata": {
    "collapsed": true
   },
   "outputs": [],
   "source": [
    "def dot_product_lists(a,b):\n",
    "    return sum([x*y for x,y in zip(a,b)])"
   ]
  },
  {
   "cell_type": "code",
   "execution_count": 184,
   "metadata": {
    "collapsed": true
   },
   "outputs": [],
   "source": [
    "def wme_to_wmd(x,y,gamma):\n",
    "    kxy = dot_product_lists(x,y)\n",
    "    return -1/gamma*np.log(kxy)"
   ]
  },
  {
   "cell_type": "markdown",
   "metadata": {},
   "source": [
    "Implementation of Word Mover Distance (solved through LP). Next two blocks from: https://github.com/stephenhky/PyWM"
   ]
  },
  {
   "cell_type": "code",
   "execution_count": 20,
   "metadata": {
    "collapsed": true
   },
   "outputs": [],
   "source": [
    "def tokens_to_fracdict(tokens):\n",
    "    cntdict = defaultdict(lambda : 0)\n",
    "    for token in tokens:\n",
    "        cntdict[token] += 1\n",
    "    totalcnt = sum(cntdict.values())\n",
    "    return {token: float(cnt)/totalcnt for token, cnt in cntdict.items()}"
   ]
  },
  {
   "cell_type": "code",
   "execution_count": 21,
   "metadata": {
    "collapsed": true
   },
   "outputs": [],
   "source": [
    "def word_mover_distance_probspec(first_sent_tokens, second_sent_tokens, wvmodel, lpFile=None):\n",
    "    all_tokens = list(set(first_sent_tokens+second_sent_tokens))\n",
    "    wordvecs = {token: wvmodel[token] for token in all_tokens}\n",
    "\n",
    "    first_sent_buckets = tokens_to_fracdict(first_sent_tokens)\n",
    "    second_sent_buckets = tokens_to_fracdict(second_sent_tokens)\n",
    "\n",
    "    T = pulp.LpVariable.dicts('T_matrix', list(product(all_tokens, all_tokens)), lowBound=0)\n",
    "\n",
    "    prob = pulp.LpProblem('WMD', sense=pulp.LpMinimize)\n",
    "    prob += pulp.lpSum([T[token1, token2]*euclidean(wordvecs[token1], wordvecs[token2])\n",
    "                        for token1, token2 in product(all_tokens, all_tokens)])\n",
    "    for token2 in second_sent_buckets:\n",
    "        prob += pulp.lpSum([T[token1, token2] for token1 in first_sent_buckets])==second_sent_buckets[token2]\n",
    "    for token1 in first_sent_buckets:\n",
    "        prob += pulp.lpSum([T[token1, token2] for token2 in second_sent_buckets])==first_sent_buckets[token1]\n",
    "\n",
    "    if lpFile!=None:\n",
    "        prob.writeLP(lpFile)\n",
    "\n",
    "    prob.solve()\n",
    "\n",
    "    return prob"
   ]
  },
  {
   "cell_type": "code",
   "execution_count": 22,
   "metadata": {
    "collapsed": true
   },
   "outputs": [],
   "source": [
    "def WMD_regular(first_sent_tokens, second_sent_tokens, wvmodel, lpFile=None):\n",
    "    prob = word_mover_distance_probspec(first_sent_tokens, second_sent_tokens, wvmodel, lpFile=lpFile)\n",
    "    return pulp.value(prob.objective)"
   ]
  },
  {
   "cell_type": "markdown",
   "metadata": {},
   "source": [
    "We need to define WMD also for a random document with random words"
   ]
  },
  {
   "cell_type": "code",
   "execution_count": 23,
   "metadata": {
    "collapsed": true
   },
   "outputs": [],
   "source": [
    "def word_mover_distance_random(documents_token, random_document_vectors, wvmodel, lpFile=None):\n",
    "    #We create a random association between the random_document_vectors and tokens, assuming random vectors to be all different\n",
    "    first_sent_tokens = documents_token\n",
    "    second_sent_tokens = ['__qxvca^&3fd?#_!$' +  str(i) for i in range(len(random_document_vectors))]\n",
    "    \n",
    "    all_tokens = list(set(first_sent_tokens+second_sent_tokens))\n",
    "    wordvecs_document = {token: wvmodel[token] for token in first_sent_tokens}\n",
    "    wordvecs_random = {second_sent_tokens[i]: random_document_vectors[i] for i in range(len(random_document_vectors))}\n",
    "    #print(wordvecs_random)\n",
    "    wordvecs = merge_two_dicts(wordvecs_document,wordvecs_random)\n",
    "\n",
    "    first_sent_buckets = tokens_to_fracdict(first_sent_tokens)\n",
    "    second_sent_buckets = tokens_to_fracdict(second_sent_tokens)\n",
    "\n",
    "    T = pulp.LpVariable.dicts('T_matrix', list(product(all_tokens, all_tokens)), lowBound=0)\n",
    "\n",
    "    prob = pulp.LpProblem('WMD', sense=pulp.LpMinimize)\n",
    "    prob += pulp.lpSum([T[token1, token2]*euclidean(wordvecs[token1], wordvecs[token2])\n",
    "                        for token1, token2 in product(all_tokens, all_tokens)])\n",
    "    for token2 in second_sent_buckets:\n",
    "        prob += pulp.lpSum([T[token1, token2] for token1 in first_sent_buckets])==second_sent_buckets[token2]\n",
    "    for token1 in first_sent_buckets:\n",
    "        prob += pulp.lpSum([T[token1, token2] for token2 in second_sent_buckets])==first_sent_buckets[token1]\n",
    "\n",
    "    if lpFile!=None:\n",
    "        prob.writeLP(lpFile)\n",
    "\n",
    "    prob.solve()\n",
    "\n",
    "    return prob"
   ]
  },
  {
   "cell_type": "code",
   "execution_count": 24,
   "metadata": {
    "collapsed": true
   },
   "outputs": [],
   "source": [
    "def WMD_random(first_sent_tokens, second_sent_tokens, wvmodel, lpFile=None):\n",
    "    prob = word_mover_distance_random(first_sent_tokens, second_sent_tokens, wvmodel, lpFile=lpFile)\n",
    "    return pulp.value(prob.objective)"
   ]
  },
  {
   "cell_type": "markdown",
   "metadata": {},
   "source": [
    "Test WMD functions"
   ]
  },
  {
   "cell_type": "code",
   "execution_count": 196,
   "metadata": {},
   "outputs": [
    {
     "name": "stdout",
     "output_type": "stream",
     "text": [
      "3.6146241426467896\n",
      "3.6146241426467896\n"
     ]
    }
   ],
   "source": [
    "print(WMD_regular(['hi','bye'],['see','you'],wvmodel))\n",
    "print(WMD_random(['hi','bye'],[wvmodel['see'],wvmodel['you']],wvmodel))"
   ]
  },
  {
   "cell_type": "markdown",
   "metadata": {
    "collapsed": true
   },
   "source": [
    "Implementation of the WME "
   ]
  },
  {
   "cell_type": "code",
   "execution_count": 26,
   "metadata": {
    "collapsed": true
   },
   "outputs": [],
   "source": [
    "def WME_phi(x,w,gamma,wvmodel):\n",
    "    return np.exp( -gamma*WMD_random(x,w,wvmodel))"
   ]
  },
  {
   "cell_type": "code",
   "execution_count": null,
   "metadata": {
    "collapsed": true
   },
   "outputs": [],
   "source": []
  },
  {
   "cell_type": "code",
   "execution_count": 317,
   "metadata": {
    "collapsed": true
   },
   "outputs": [],
   "source": [
    "def calculate_WME(documents, D_max, R, wvmodel):\n",
    "    # It must returns a list of text embeddings, i-th element being the embedding of the i-th document\n",
    "    \n",
    "    #Phase 1: Compute v_max and v_min\n",
    "    v_values = [+9999,-9999] # [v_min,v_max]\n",
    "    for doc in documents:\n",
    "        for token in doc:\n",
    "            for x in wvmodel[token]:\n",
    "                v_values[0] = min(v_values[0],x)\n",
    "                v_values[1] = max(v_values[1],x)\n",
    "            \n",
    "    print(\"[v_min, v_max] = \"  + str(v_values))\n",
    "    Z = []\n",
    "    for j in range(R):\n",
    "        print(\"R: \" + str(j+1)+\"/\"+str(R))\n",
    "        D = 1 + np.random.randint(D_max)\n",
    "        random_doc = []\n",
    "        for l in range(D):\n",
    "            word = np.random.uniform(v_values[0],v_values[1],size=300)\n",
    "            word = word*1/np.sqrt(sum(x*x for x in word))\n",
    "            random_doc.append(word)\n",
    "        to_add = [WME_phi(doc,random_doc,1.12,wvmodel) for doc in documents]\n",
    "        #print(\"to_add\" + str(to_add))\n",
    "        Z.append(to_add)\n",
    "    ret_Z = (1/(np.sqrt(R))*np.array(Z).T).tolist()\n",
    "    return ret_Z\n",
    "        \n",
    "        \n",
    "    "
   ]
  },
  {
   "cell_type": "code",
   "execution_count": 219,
   "metadata": {
    "collapsed": true
   },
   "outputs": [],
   "source": [
    "documents = [['the','sun','is','the','best','thing','in','the','world'],['i','love','watch','the','sun','it','burns','my','life']]"
   ]
  },
  {
   "cell_type": "code",
   "execution_count": 391,
   "metadata": {
    "collapsed": true
   },
   "outputs": [],
   "source": [
    "#It returns a list of k_max elements, iteratively picked using the farthest-first traversal algorithm\n",
    "# The returned list [a_1, ..., a_(k_max)] containts the indexes of the picked element at every iteration (i.e. a_i is selected in the i-th iteration)\n",
    "# documents in this case containts the (ordered) list of the embeddings of the documents\n",
    "def k_center(documents,k_max):\n",
    "    ret = []\n",
    "    radius = []\n",
    "    N = len(documents)\n",
    "    first = np.random.randint(N)\n",
    "    ret.append(first)\n",
    "    \n",
    "    dist = [euclidean(doc,documents[first]) for doc in documents] \n",
    "   \n",
    "    radius.append(np.max(dist))\n",
    "    for k in range(k_max-1):\n",
    "        #Selection\n",
    "        j = np.argmax(dist)\n",
    "        ret.append(j)\n",
    "        \n",
    "        #Update\n",
    "        dist = [min(dist[i], euclidean(documents[i],documents[j])) for i in range(N)]\n",
    "       \n",
    "        radius.append(np.max(dist))\n",
    "    return ret,radius\n",
    "        \n",
    "        \n",
    "        \n",
    "    "
   ]
  },
  {
   "cell_type": "code",
   "execution_count": null,
   "metadata": {
    "collapsed": true
   },
   "outputs": [],
   "source": [
    "import picle\n",
    "f = open('recipe_dataset.pckl'.'rb')\n",
    "obj = pickle.load(f)\n",
    "f.close()\n",
    "name_dataset = obj[0]\n",
    "train_R_X = obj[1]\n",
    "train_R_Y = obj[2]\n",
    "support_info = obj[3]\n"
   ]
  },
  {
   "cell_type": "markdown",
   "metadata": {},
   "source": [
    "CARE! The next line of code is computationally expensive! (Disabled)"
   ]
  },
  {
   "cell_type": "code",
   "execution_count": 318,
   "metadata": {
    "scrolled": true
   },
   "outputs": [
    {
     "name": "stdout",
     "output_type": "stream",
     "text": [
      "[v_min, v_max] = [-1.03125, 1.0859375]\n",
      "R: 1/32\n",
      "R: 2/32\n",
      "R: 3/32\n",
      "R: 4/32\n",
      "R: 5/32\n",
      "R: 6/32\n",
      "R: 7/32\n",
      "R: 8/32\n",
      "R: 9/32\n",
      "R: 10/32\n",
      "R: 11/32\n",
      "R: 12/32\n",
      "R: 13/32\n",
      "R: 14/32\n",
      "R: 15/32\n",
      "R: 16/32\n",
      "R: 17/32\n",
      "R: 18/32\n",
      "R: 19/32\n",
      "R: 20/32\n",
      "R: 21/32\n",
      "R: 22/32\n",
      "R: 23/32\n",
      "R: 24/32\n",
      "R: 25/32\n",
      "R: 26/32\n",
      "R: 27/32\n",
      "R: 28/32\n",
      "R: 29/32\n",
      "R: 30/32\n",
      "R: 31/32\n",
      "R: 32/32\n"
     ]
    }
   ],
   "source": [
    "#train_embedding = calculate_WME(train_R_X,6,32,wvmodel)"
   ]
  },
  {
   "cell_type": "markdown",
   "metadata": {},
   "source": [
    "The next block can be used to save the trained model (Put it as code)"
   ]
  },
  {
   "cell_type": "markdown",
   "metadata": {},
   "source": [
    "import pickle\n",
    "obj = ['recipe_dataset', train_R_X, train_R_Y, index_to_pick, train_embedding]\n",
    "f = open('recipes_WME.pckl', 'wb')\n",
    "pickle.dump(obj, f)\n",
    "f.close()"
   ]
  },
  {
   "cell_type": "markdown",
   "metadata": {},
   "source": [
    "The next block can be used to load the trained model (Put it as code)"
   ]
  },
  {
   "cell_type": "code",
   "execution_count": null,
   "metadata": {
    "collapsed": true
   },
   "outputs": [],
   "source": [
    "import pickle\n",
    "f = open('recipes_WME.pckl', 'rb')\n",
    "obj = pickle.load(f)\n",
    "f.close()\n",
    "name_dataset = obj[0]\n",
    "train_R_X = obj[1]\n",
    "train_R_Y = obj[2]\n",
    "support_info = obj[3]\n",
    "train_embedding = obj[4]"
   ]
  },
  {
   "cell_type": "code",
   "execution_count": 392,
   "metadata": {
    "collapsed": true
   },
   "outputs": [],
   "source": [
    "elements_to_pick = 150\n",
    "centers,radius = k_center(train_embedding,elements_to_pick)"
   ]
  },
  {
   "cell_type": "code",
   "execution_count": 394,
   "metadata": {
    "collapsed": true
   },
   "outputs": [],
   "source": [
    "sets_label = set()\n",
    "k_center_number = []\n",
    "for i in range(elements_to_pick):\n",
    "    sets_label.add(train_R_Y[centers[i]])\n",
    "    k_center_number.append(len(sets_label))\n",
    "    "
   ]
  },
  {
   "cell_type": "code",
   "execution_count": 384,
   "metadata": {
    "collapsed": true
   },
   "outputs": [],
   "source": [
    "random_indexes = [i for i in range(NUMBER_OF_POINTS)]\n",
    "np.random.shuffle(random_indexes)\n",
    "sets_label = set()\n",
    "random_number = [0]*elements_to_pick\n",
    "NUMBER_ITERATIONS = 100000 #Reduce if too much expensive\n",
    "for j in range(NUMBER_ITERATIONS):\n",
    "    sets_label = set()\n",
    "    for i in range(150):\n",
    "        sets_label.add(train_R_Y[random_indexes[i]])\n",
    "        random_number[i] += 1.0/NUMBER_ITERATIONS*len(sets_label)"
   ]
  },
  {
   "cell_type": "code",
   "execution_count": 395,
   "metadata": {
    "collapsed": true
   },
   "outputs": [],
   "source": [
    "import matplotlib.pyplot as plt"
   ]
  },
  {
   "cell_type": "code",
   "execution_count": 401,
   "metadata": {},
   "outputs": [
    {
     "data": {
      "image/png": "[encoded data removed]",
      "text/plain": [
       "<matplotlib.figure.Figure at 0x16721cee278>"
      ]
     },
     "metadata": {},
     "output_type": "display_data"
    }
   ],
   "source": [
    "x = [i for i in range(elements_to_pick)]\n",
    "\n",
    "plt.plot(x, k_center_number, label='k_center')\n",
    "plt.plot(x, random_number, label='random')\n",
    "\n",
    "plt.xlabel('Elements picked')\n",
    "plt.ylabel('Unique recipes')\n",
    "\n",
    "plt.title(\"Picking unique elements\")\n",
    "\n",
    "plt.legend()\n",
    "\n",
    "plt.show()"
   ]
  },
  {
   "cell_type": "code",
   "execution_count": 400,
   "metadata": {},
   "outputs": [
    {
     "data": {
      "image/png": "[encoded data removed]",
      "text/plain": [
       "<matplotlib.figure.Figure at 0x16721cee0f0>"
      ]
     },
     "metadata": {},
     "output_type": "display_data"
    }
   ],
   "source": [
    "x = [i for i in range(150)]\n",
    "\n",
    "plt.plot(x, radius, label='radius')\n",
    "plt.xlabel('Elements picked')\n",
    "plt.ylabel('Radius')\n",
    "plt.legend()\n",
    "plt.show()"
   ]
  },
  {
   "cell_type": "code",
   "execution_count": null,
   "metadata": {
    "collapsed": true
   },
   "outputs": [],
   "source": []
  }
 ],
 "metadata": {
  "kernelspec": {
   "display_name": "Python 2",
   "language": "python",
   "name": "python2"
  },
  "language_info": {
   "codemirror_mode": {
    "name": "ipython",
    "version": 2
   },
   "file_extension": ".py",
   "mimetype": "text/x-python",
   "name": "python",
   "nbconvert_exporter": "python",
   "pygments_lexer": "ipython2",
   "version": "2.7.13"
  }
 },
 "nbformat": 4,
 "nbformat_minor": 2
}
