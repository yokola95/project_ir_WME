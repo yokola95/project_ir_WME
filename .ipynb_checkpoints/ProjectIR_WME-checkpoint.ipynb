{
 "cells": [
  {
   "cell_type": "raw",
   "metadata": {
    "collapsed": true
   },
   "source": [
    "# Useful commands for installing missing dependencies (to be used on jupyter notebook)\n",
    "\n",
    "import sys\n",
    "!conda install --yes --prefix {sys.prefix} gensim\n",
    "!conda install --yes --prefix {sys.prefix} --no-update-dependencies -c conda-forge pulp\n"
   ]
  },
  {
   "cell_type": "markdown",
   "metadata": {},
   "source": [
    "Importing all required dependencies"
   ]
  },
  {
   "cell_type": "code",
   "execution_count": 194,
   "metadata": {},
   "outputs": [],
   "source": [
    "from itertools import product\n",
    "from collections import defaultdict\n",
    "import numpy as np\n",
    "from scipy.spatial.distance import euclidean\n",
    "from scipy.spatial.distance import cosine\n",
    "import pulp\n",
    "import gensim\n",
    "from sklearn.metrics.pairwise import cosine_similarity\n",
    "import json\n",
    "import pickle\n"
   ]
  },
  {
   "cell_type": "markdown",
   "metadata": {},
   "source": [
    "Importing Word2Vec model (https://code.google.com/archive/p/word2vec/). The next block may require a long time!"
   ]
  },
  {
   "cell_type": "code",
   "execution_count": 10,
   "metadata": {},
   "outputs": [],
   "source": [
    "wvmodel = gensim.models.KeyedVectors.load_word2vec_format(r'GoogleNews-vectors-negative300.bin', binary=True)"
   ]
  },
  {
   "cell_type": "markdown",
   "metadata": {},
   "source": [
    "Testing Word2Vec model (@Mario: Nota quanto cazzo è incredibile sta cosa)"
   ]
  },
  {
   "cell_type": "code",
   "execution_count": 69,
   "metadata": {},
   "outputs": [],
   "source": [
    "x_test = wvmodel['man']+wvmodel['king']-wvmodel['woman']\n",
    "y_test = wvmodel['queen']\n",
    "z_test = wvmodel['boat']"
   ]
  },
  {
   "cell_type": "code",
   "execution_count": 70,
   "metadata": {},
   "outputs": [
    {
     "name": "stdout",
     "output_type": "stream",
     "text": [
      "[[0.4057604]]\n",
      "[[0.01503608]]\n"
     ]
    }
   ],
   "source": [
    "print(cosine_similarity([x_test], [y_test]))\n",
    "print(cosine_similarity([x_test], [z_test]))"
   ]
  },
  {
   "cell_type": "markdown",
   "metadata": {},
   "source": [
    "Useful functions"
   ]
  },
  {
   "cell_type": "code",
   "execution_count": 11,
   "metadata": {},
   "outputs": [],
   "source": [
    "def merge_two_dicts(x, y):\n",
    "    z = x.copy()   # start with x's keys and values\n",
    "    z.update(y)    # modifies z with y's keys and values & returns None\n",
    "    return z"
   ]
  },
  {
   "cell_type": "code",
   "execution_count": 12,
   "metadata": {},
   "outputs": [],
   "source": [
    "def dot_product_lists(a,b):\n",
    "    return sum([x*y for x,y in zip(a,b)])"
   ]
  },
  {
   "cell_type": "code",
   "execution_count": 13,
   "metadata": {},
   "outputs": [],
   "source": [
    "def wme_to_wmd(x,y,gamma):\n",
    "    kxy = dot_product_lists(x,y)\n",
    "    return -1/gamma*np.log(kxy)"
   ]
  },
  {
   "cell_type": "markdown",
   "metadata": {},
   "source": [
    "Implementation of Word Mover Distance (solved through LP). Next two blocks from: https://github.com/stephenhky/PyWM"
   ]
  },
  {
   "cell_type": "code",
   "execution_count": 14,
   "metadata": {},
   "outputs": [],
   "source": [
    "def tokens_to_fracdict(tokens):\n",
    "    cntdict = defaultdict(lambda : 0)\n",
    "    for token in tokens:\n",
    "        cntdict[token] += 1\n",
    "    totalcnt = sum(cntdict.values())\n",
    "    return {token: float(cnt)/totalcnt for token, cnt in cntdict.items()}"
   ]
  },
  {
   "cell_type": "code",
   "execution_count": 15,
   "metadata": {},
   "outputs": [],
   "source": [
    "# UBER MEGA FAST WMD BY AL\n",
    "\n",
    "from gensim.corpora.dictionary import Dictionary\n",
    "def wmdistance(document1, document2, wvmodel):\n",
    "        from pyemd import emd\n",
    "\n",
    "        # Remove out-of-vocabulary words.\n",
    "        len_pre_oov1 = len(document1)\n",
    "        len_pre_oov2 = len(document2)\n",
    "        remember_me = document2\n",
    "        document2 = ['__qxvca^&3fd?#_!$' +  str(i) for i in range(len(document2))]\n",
    "        diff1 = len_pre_oov1 - len(document1)\n",
    "        diff2 = len_pre_oov2 - len(document2)\n",
    "        if diff1 > 0 or diff2 > 0:\n",
    "            logger.info('Removed %d and %d OOV words from document 1 and 2 (respectively).', diff1, diff2)\n",
    "\n",
    "        if not document1 or not document2:\n",
    "            logger.info(\n",
    "                \"At least one of the documents had no words that were in the vocabulary. \"\n",
    "                \"Aborting (returning inf).\"\n",
    "            )\n",
    "            return float('inf')\n",
    "\n",
    "        dictionary = Dictionary(documents=[document1, document2])\n",
    "        vocab_len = len(dictionary)\n",
    "\n",
    "        if vocab_len == 1:\n",
    "            # Both documents are composed by a single unique token\n",
    "            return 0.0\n",
    "\n",
    "        # Sets for faster look-up.\n",
    "        docset1 = set(document1)\n",
    "        docset2 = set(document2)\n",
    "\n",
    "        wordvecs_random = {document2[i]: remember_me[i] for i in range(len(remember_me))}\n",
    "\n",
    "        # Compute distance matrix.\n",
    "        distance_matrix = np.zeros((vocab_len, vocab_len))\n",
    "        for i, t1 in dictionary.items():\n",
    "            if t1 not in docset1:\n",
    "                continue\n",
    "\n",
    "            for j, t2 in dictionary.items():\n",
    "                if t2 not in docset2 or distance_matrix[i, j] != 0.0:\n",
    "                    continue\n",
    "\n",
    "                # Compute Euclidean distance between word vectors.\n",
    "                distance_matrix[i, j] = distance_matrix[j, i] = np.sqrt(sum((wvmodel[t1] - wordvecs_random[t2])**2))\n",
    "\n",
    "        def nbow(document):\n",
    "            d = np.zeros(vocab_len)\n",
    "            nbow = dictionary.doc2bow(document)  # Word frequencies.\n",
    "            doc_len = len(document)\n",
    "            for idx, freq in nbow:\n",
    "                d[idx] = freq / float(doc_len)  # Normalized word frequencies.\n",
    "            return d\n",
    "\n",
    "        # Compute nBOW representation of documents.\n",
    "        d1 = nbow(document1)\n",
    "        d2 = nbow(document2)\n",
    "\n",
    "        # Compute WMD.\n",
    "        return emd(d1, d2, distance_matrix)"
   ]
  },
  {
   "cell_type": "code",
   "execution_count": 16,
   "metadata": {},
   "outputs": [],
   "source": [
    "def word_mover_distance_probspec(first_sent_tokens, second_sent_tokens, wvmodel, lpFile=None):\n",
    "    all_tokens = list(set(first_sent_tokens+second_sent_tokens))\n",
    "    wordvecs = {token: wvmodel[token] for token in all_tokens}\n",
    "\n",
    "    first_sent_buckets = tokens_to_fracdict(first_sent_tokens)\n",
    "    second_sent_buckets = tokens_to_fracdict(second_sent_tokens)\n",
    "\n",
    "    T = pulp.LpVariable.dicts('T_matrix', list(product(all_tokens, all_tokens)), lowBound=0)\n",
    "\n",
    "    prob = pulp.LpProblem('WMD', sense=pulp.LpMinimize)\n",
    "    prob += pulp.lpSum([T[token1, token2]*euclidean(wordvecs[token1], wordvecs[token2])\n",
    "                        for token1, token2 in product(all_tokens, all_tokens)])\n",
    "    for token2 in second_sent_buckets:\n",
    "        prob += pulp.lpSum([T[token1, token2] for token1 in first_sent_buckets])==second_sent_buckets[token2]\n",
    "    for token1 in first_sent_buckets:\n",
    "        prob += pulp.lpSum([T[token1, token2] for token2 in second_sent_buckets])==first_sent_buckets[token1]\n",
    "\n",
    "    if lpFile!=None:\n",
    "        prob.writeLP(lpFile)\n",
    "\n",
    "    prob.solve()\n",
    "\n",
    "    return prob"
   ]
  },
  {
   "cell_type": "code",
   "execution_count": 17,
   "metadata": {},
   "outputs": [],
   "source": [
    "def WMD_regular(first_sent_tokens, second_sent_tokens, wvmodel, lpFile=None):\n",
    "    prob = word_mover_distance_probspec(first_sent_tokens, second_sent_tokens, wvmodel, lpFile=lpFile)\n",
    "    return pulp.value(prob.objective)"
   ]
  },
  {
   "cell_type": "markdown",
   "metadata": {},
   "source": [
    "We need to define WMD also for a random document with random words"
   ]
  },
  {
   "cell_type": "code",
   "execution_count": 18,
   "metadata": {},
   "outputs": [],
   "source": [
    "def word_mover_distance_random(documents_token, random_document_vectors, wvmodel, lpFile=None):\n",
    "    #We create a random association between the random_document_vectors and tokens, assuming random vectors to be all different\n",
    "    first_sent_tokens = documents_token\n",
    "    second_sent_tokens = ['__qxvca^&3fd?#_!$' +  str(i) for i in range(len(random_document_vectors))]\n",
    "    \n",
    "    all_tokens = list(set(first_sent_tokens+second_sent_tokens))\n",
    "    wordvecs_document = {token: wvmodel[token] for token in first_sent_tokens}\n",
    "    wordvecs_random = {second_sent_tokens[i]: random_document_vectors[i] for i in range(len(random_document_vectors))}\n",
    "    #print(wordvecs_random)\n",
    "    wordvecs = merge_two_dicts(wordvecs_document,wordvecs_random)\n",
    "\n",
    "    first_sent_buckets = tokens_to_fracdict(first_sent_tokens)\n",
    "    second_sent_buckets = tokens_to_fracdict(second_sent_tokens)\n",
    "\n",
    "    T = pulp.LpVariable.dicts('T_matrix', list(product(all_tokens, all_tokens)), lowBound=0)\n",
    "\n",
    "    prob = pulp.LpProblem('WMD', sense=pulp.LpMinimize)\n",
    "    prob += pulp.lpSum([T[token1, token2]*euclidean(wordvecs[token1], wordvecs[token2])\n",
    "                        for token1, token2 in product(all_tokens, all_tokens)])\n",
    "    for token2 in second_sent_buckets:\n",
    "        prob += pulp.lpSum([T[token1, token2] for token1 in first_sent_buckets])==second_sent_buckets[token2]\n",
    "    for token1 in first_sent_buckets:\n",
    "        prob += pulp.lpSum([T[token1, token2] for token2 in second_sent_buckets])==first_sent_buckets[token1]\n",
    "\n",
    "    if lpFile!=None:\n",
    "        prob.writeLP(lpFile)\n",
    "\n",
    "    prob.solve()\n",
    "\n",
    "    return prob"
   ]
  },
  {
   "cell_type": "code",
   "execution_count": 19,
   "metadata": {},
   "outputs": [],
   "source": [
    "def WMD_random(first_sent_tokens, second_sent_tokens, wvmodel, lpFile=None):\n",
    "    prob = word_mover_distance_random(first_sent_tokens, second_sent_tokens, wvmodel, lpFile=lpFile)\n",
    "    return pulp.value(prob.objective)"
   ]
  },
  {
   "cell_type": "markdown",
   "metadata": {},
   "source": [
    "Test WMD functions"
   ]
  },
  {
   "cell_type": "code",
   "execution_count": 24,
   "metadata": {},
   "outputs": [
    {
     "name": "stdout",
     "output_type": "stream",
     "text": [
      "3.6146241426467896\n",
      "3.6146241426467896\n",
      "3.614624884065685\n"
     ]
    }
   ],
   "source": [
    "print(WMD_regular(['hi','bye'],['see','you'],wvmodel))\n",
    "print(WMD_random(['hi','bye'],[wvmodel['see'],wvmodel['you']],wvmodel))\n",
    "print(wmdistance(['hi','bye'],wvmodel['see','you'],wvmodel))"
   ]
  },
  {
   "cell_type": "markdown",
   "metadata": {
    "collapsed": true
   },
   "source": [
    "Implementation of the WME "
   ]
  },
  {
   "cell_type": "code",
   "execution_count": 25,
   "metadata": {},
   "outputs": [],
   "source": [
    "def WME_phi(x,w,gamma,wvmodel):\n",
    "    return np.exp( -gamma*wmdistance(x,w,wvmodel))"
   ]
  },
  {
   "cell_type": "code",
   "execution_count": 88,
   "metadata": {},
   "outputs": [],
   "source": [
    "def calculate_WME(documents, D_max, R, wvmodel, gamma):\n",
    "    # It must returns a list of text embeddings, i-th element being the embedding of the i-th document\n",
    "    \n",
    "    #Phase 1: Compute v_max and v_min\n",
    "    v_values = [+9999,-9999] # [v_min,v_max]\n",
    "    for doc in documents:\n",
    "        for token in doc:\n",
    "            for x in wvmodel[token]:\n",
    "                v_values[0] = min(v_values[0],x)\n",
    "                v_values[1] = max(v_values[1],x)\n",
    "            \n",
    "    print(\"[v_min, v_max] = \"  + str(v_values))\n",
    "    Z = []\n",
    "    for j in range(R):\n",
    "        print(\"R: \" + str(j+1)+\"/\"+str(R))\n",
    "        D = 1 + np.random.randint(D_max)\n",
    "        random_doc = []\n",
    "        for l in range(D):\n",
    "            word = np.random.uniform(v_values[0],v_values[1],size=300)\n",
    "            word = word*1/np.sqrt(sum(x*x for x in word))\n",
    "            random_doc.append(word)\n",
    "        to_add = [WME_phi(doc,random_doc,gamma,wvmodel) for doc in documents]\n",
    "        #print(\"to_add\" + str(to_add))\n",
    "        Z.append(to_add)\n",
    "    ret_Z = (1/(np.sqrt(R))*np.array(Z).T).tolist()\n",
    "    return ret_Z\n",
    "        \n",
    "        \n",
    "    "
   ]
  },
  {
   "cell_type": "code",
   "execution_count": 27,
   "metadata": {},
   "outputs": [],
   "source": [
    "documents = [['the','sun','is','the','best','thing','in','the','world'],['i','love','watch','the','sun','it','burns','my','life']]"
   ]
  },
  {
   "cell_type": "code",
   "execution_count": 28,
   "metadata": {},
   "outputs": [],
   "source": [
    "#It returns a list of k_max elements, iteratively picked using the farthest-first traversal algorithm\n",
    "# The returned list [a_1, ..., a_(k_max)] containts the indexes of the picked element at every iteration (i.e. a_i is selected in the i-th iteration)\n",
    "# documents in this case containts the (ordered) list of the embeddings of the documents\n",
    "def k_center(documents,k_max):\n",
    "    ret = []\n",
    "    radius = []\n",
    "    N = len(documents)\n",
    "    first = np.random.randint(N)\n",
    "    ret.append(first)\n",
    "    \n",
    "    dist = [euclidean(doc,documents[first]) for doc in documents] \n",
    "   \n",
    "    radius.append(np.max(dist))\n",
    "    for k in range(k_max-1):\n",
    "        #Selection\n",
    "        j = np.argmax(dist)\n",
    "        ret.append(j)\n",
    "        \n",
    "        #Update\n",
    "        dist = [min(dist[i], euclidean(documents[i],documents[j])) for i in range(N)]\n",
    "       \n",
    "        radius.append(np.max(dist))\n",
    "    return ret,radius\n",
    "        \n",
    "        \n",
    "        \n",
    "    "
   ]
  },
  {
   "cell_type": "markdown",
   "metadata": {},
   "source": [
    "import pickle\n",
    "f = open('newsgroup_dataset.pckl','rb')\n",
    "obj = pickle.load(f)\n",
    "f.close()\n",
    "name_dataset = obj[0]\n",
    "train_R_X = obj[1]\n",
    "train_R_Y = obj[2]"
   ]
  },
  {
   "cell_type": "markdown",
   "metadata": {},
   "source": [
    "CARE! The next line of code is computationally expensive! (Disabled)"
   ]
  },
  {
   "cell_type": "markdown",
   "metadata": {
    "scrolled": true
   },
   "source": [
    "train_embedding = calculate_WME(train_R_X,6,128,wvmodel)"
   ]
  },
  {
   "cell_type": "markdown",
   "metadata": {},
   "source": [
    "The next block can be used to save the trained model (Put it as code)"
   ]
  },
  {
   "cell_type": "markdown",
   "metadata": {},
   "source": [
    "import pickle \n",
    "obj = ['newsgroup_WME-D6-R128-N1500-L25', train_R_X, train_R_Y, train_embedding] \n",
    "f = open('newsgroup_WME-D6-R128-N1500-L25.pckl', 'wb') \n",
    "pickle.dump(obj, f) \n",
    "f.close()"
   ]
  },
  {
   "cell_type": "markdown",
   "metadata": {},
   "source": [
    "import pickle\n",
    "obj = ['recipe_dataset', train_R_X, train_R_Y, index_to_pick, train_embedding]\n",
    "f = open('recipes_WME.pckl', 'wb')\n",
    "pickle.dump(obj, f)\n",
    "f.close()"
   ]
  },
  {
   "cell_type": "markdown",
   "metadata": {},
   "source": [
    "The next block can be used to load the trained model (Put it as code)"
   ]
  },
  {
   "cell_type": "markdown",
   "metadata": {},
   "source": [
    "import pickle\n",
    "f = open('newsgroup_WME-D6-R128-N1500-L25.pckl', 'rb')\n",
    "obj = pickle.load(f)\n",
    "f.close()\n",
    "print(len(obj))\n",
    "name_dataset = obj[0]\n",
    "train_R_X = obj[1]\n",
    "train_R_Y = obj[2]\n",
    "train_embedding = obj[3]\n",
    "print(name_dataset)"
   ]
  },
  {
   "cell_type": "code",
   "execution_count": 73,
   "metadata": {},
   "outputs": [],
   "source": [
    "elements_to_pick = 150\n",
    "NUMBER_OF_POINTS = len(train_R_X)\n",
    "centers,radius = k_center(train_embedding,elements_to_pick)"
   ]
  },
  {
   "cell_type": "code",
   "execution_count": 74,
   "metadata": {},
   "outputs": [],
   "source": [
    "sets_label = set()\n",
    "k_center_number = []\n",
    "for i in range(elements_to_pick):\n",
    "    sets_label.add(train_R_Y[centers[i]])\n",
    "    k_center_number.append(len(sets_label))\n",
    "    "
   ]
  },
  {
   "cell_type": "code",
   "execution_count": 75,
   "metadata": {},
   "outputs": [],
   "source": [
    "random_indexes = [i for i in range(NUMBER_OF_POINTS)]\n",
    "np.random.shuffle(random_indexes)\n",
    "sets_label = set()\n",
    "random_number = [0]*elements_to_pick\n",
    "NUMBER_ITERATIONS = 100000 #Reduce if too much expensive\n",
    "for j in range(NUMBER_ITERATIONS):\n",
    "    sets_label = set()\n",
    "    for i in range(150):\n",
    "        sets_label.add(train_R_Y[random_indexes[i]])\n",
    "        random_number[i] += 1.0/NUMBER_ITERATIONS*len(sets_label)"
   ]
  },
  {
   "cell_type": "code",
   "execution_count": 76,
   "metadata": {},
   "outputs": [],
   "source": [
    "import matplotlib.pyplot as plt"
   ]
  },
  {
   "cell_type": "code",
   "execution_count": 77,
   "metadata": {},
   "outputs": [
    {
     "data": {
      "image/png": "[encoded data removed]",
      "text/plain": [
       "<Figure size 432x288 with 1 Axes>"
      ]
     },
     "metadata": {
      "needs_background": "light"
     },
     "output_type": "display_data"
    }
   ],
   "source": [
    "x = [i for i in range(elements_to_pick)]\n",
    "\n",
    "plt.plot(x, k_center_number, label='k_center')\n",
    "plt.plot(x, random_number, label='random')\n",
    "\n",
    "plt.xlabel('Elements picked')\n",
    "plt.ylabel('Unique recipes')\n",
    "\n",
    "plt.title(\"Picking unique elements\")\n",
    "\n",
    "plt.legend()\n",
    "\n",
    "plt.show()"
   ]
  },
  {
   "cell_type": "code",
   "execution_count": 78,
   "metadata": {},
   "outputs": [
    {
     "data": {
      "image/png": "[encoded data removed]",
      "text/plain": [
       "<Figure size 432x288 with 1 Axes>"
      ]
     },
     "metadata": {
      "needs_background": "light"
     },
     "output_type": "display_data"
    }
   ],
   "source": [
    "x = [i for i in range(150)]\n",
    "\n",
    "plt.plot(x, radius, label='radius')\n",
    "plt.xlabel('Elements picked')\n",
    "plt.ylabel('Radius')\n",
    "plt.legend()\n",
    "plt.show()"
   ]
  },
  {
   "cell_type": "code",
   "execution_count": 54,
   "metadata": {},
   "outputs": [],
   "source": [
    "from sklearn import metrics"
   ]
  },
  {
   "cell_type": "code",
   "execution_count": 52,
   "metadata": {},
   "outputs": [],
   "source": [
    "def calculate_ARI(dataset, centers, labels):\n",
    "    dict_labels = {}\n",
    "    ii = 0\n",
    "    for x in set(labels):\n",
    "        if x not in dict_labels:\n",
    "            dict_labels[x] = ii\n",
    "            ii = ii+1\n",
    "    true_labels = [dict_labels[x] for x in labels]\n",
    "    found_labels = []\n",
    "    for x in dataset:\n",
    "        j = np.argmin([euclidean(x,c) for c in centers])\n",
    "        found_labels.append(j)\n",
    "    print(true_labels)\n",
    "    print(found_labels)\n",
    "    return [metrics.adjusted_rand_score(true_labels, found_labels),metrics.adjusted_mutual_info_score(true_labels,found_labels)]\n",
    "    "
   ]
  },
  {
   "cell_type": "code",
   "execution_count": 195,
   "metadata": {},
   "outputs": [],
   "source": [
    "f = open('bbcsport_dataset.pckl','rb')\n",
    "obj = pickle.load(f)\n",
    "f.close()\n",
    "name_dataset = obj[0]\n",
    "train_R_X = obj[1]\n",
    "train_R_Y = obj[2]"
   ]
  },
  {
   "cell_type": "code",
   "execution_count": 193,
   "metadata": {},
   "outputs": [
    {
     "name": "stdout",
     "output_type": "stream",
     "text": [
      "bbcsport_dataset\n"
     ]
    }
   ],
   "source": [
    "from sklearn.svm import SVC\n",
    "\n",
    "gammas = [0.01, 0.1, 0.5, 1, 1.5, 3 , 7.5, 10]\n",
    "R_value = 256\n",
    "D_value = 6\n",
    "all_train_embeddings = {}\n",
    "for gamma in gammas:\n",
    "    print(\"Calculating for gamma\", gamma)\n",
    "    train_embedding = calculate_WME(train_R_X,D_value,R_value,wvmodel, gamma)\n",
    "    all_train_embeddings[gamma] = train_embedding\n",
    "    cutoff = int(2/3*(len(train_embedding)))\n",
    "    train_embedding_trn = train_embedding[:cutoff]\n",
    "    train_R_Y_trn = train_R_Y[:cutoff]\n",
    "    train_embedding_tst = train_embedding[cutoff:]\n",
    "    train_R_Y_tst = train_R_Y[cutoff:]\n",
    "    \n",
    "    linear_SVM = SVC(kernel='linear')\n",
    "    linear_SVM.fit(train_embedding_trn, train_R_Y_trn)\n",
    "    \n",
    "    scores[gamma] = linear_SVM.score(train_embedding_tst, train_R_Y_tst)"
   ]
  },
  {
   "cell_type": "code",
   "execution_count": null,
   "metadata": {},
   "outputs": [],
   "source": [
    "f = open('bbcsport_embeddings', 'wb')\n",
    "obj = ['bbcsport_embeddings', all_train_embeddings, train_R_Y, cutoff, gammas, ] \n",
    "f = open('newsgroup_WME-D6-R128-N1500-L25.pckl', 'wb') \n",
    "pickle.dump(obj, f) \n",
    "f.close()"
   ]
  }
 ],
 "metadata": {
  "kernelspec": {
   "display_name": "Python 3",
   "language": "python",
   "name": "python3"
  },
  "language_info": {
   "codemirror_mode": {
    "name": "ipython",
    "version": 3
   },
   "file_extension": ".py",
   "mimetype": "text/x-python",
   "name": "python",
   "nbconvert_exporter": "python",
   "pygments_lexer": "ipython3",
   "version": "3.7.0"
  }
 },
 "nbformat": 4,
 "nbformat_minor": 2
}
