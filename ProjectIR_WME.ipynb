{
 "cells": [
  {
   "cell_type": "markdown",
   "metadata": {},
   "source": [
    "The commands below can be used to import missing dependencies inside conda"
   ]
  },
  {
   "cell_type": "raw",
   "metadata": {
    "collapsed": true
   },
   "source": [
    "# Useful commands for installing missing dependencies (to be used on jupyter notebook)\n",
    "\n",
    "import sys\n",
    "!conda install --yes --prefix {sys.prefix} gensim\n",
    "!conda install --yes --prefix {sys.prefix} --no-update-dependencies -c conda-forge pulp\n"
   ]
  },
  {
   "cell_type": "markdown",
   "metadata": {},
   "source": [
    "Importing all required dependencies"
   ]
  },
  {
   "cell_type": "code",
   "execution_count": 42,
   "metadata": {},
   "outputs": [],
   "source": [
    "from itertools import product\n",
    "from collections import defaultdict\n",
    "import numpy as np\n",
    "from scipy.spatial.distance import euclidean\n",
    "from scipy.spatial.distance import cosine\n",
    "import pulp\n",
    "import gensim\n",
    "from sklearn.metrics.pairwise import cosine_similarity\n",
    "import json\n",
    "import pickle\n",
    "import os\n",
    "import io\n",
    "from sklearn.model_selection import KFold\n",
    "import matplotlib.pyplot as plt"
   ]
  },
  {
   "cell_type": "markdown",
   "metadata": {},
   "source": [
    "Function to load pickle files (retro-compatible with python 2)"
   ]
  },
  {
   "cell_type": "code",
   "execution_count": 20,
   "metadata": {},
   "outputs": [],
   "source": [
    "def load_pickle(pickle_file):\n",
    "    try:\n",
    "        with open(pickle_file, 'rb') as f:\n",
    "            pickle_data = pickle.load(f)\n",
    "    except UnicodeDecodeError as e:\n",
    "        with open(pickle_file, 'rb') as f:\n",
    "            pickle_data = pickle.load(f, encoding='latin1')\n",
    "    except Exception as e:\n",
    "        print('Unable to load data ', pickle_file, ':', e)\n",
    "        raise\n",
    "    return pickle_data"
   ]
  },
  {
   "cell_type": "markdown",
   "metadata": {},
   "source": [
    "Importing Word2Vec model (https://code.google.com/archive/p/word2vec/). The next block may require a long time!"
   ]
  },
  {
   "cell_type": "code",
   "execution_count": null,
   "metadata": {},
   "outputs": [],
   "source": [
    "wvmodel = gensim.models.KeyedVectors.load_word2vec_format(r'GoogleNews-vectors-negative300.bin', binary=True)"
   ]
  },
  {
   "cell_type": "markdown",
   "metadata": {},
   "source": [
    "Testing Word2Vec model "
   ]
  },
  {
   "cell_type": "code",
   "execution_count": null,
   "metadata": {},
   "outputs": [],
   "source": [
    "x_test = wvmodel['man']+wvmodel['king']-wvmodel['woman']\n",
    "y_test = wvmodel['queen']\n",
    "z_test = wvmodel['boat']"
   ]
  },
  {
   "cell_type": "code",
   "execution_count": null,
   "metadata": {},
   "outputs": [],
   "source": [
    "print(cosine_similarity([x_test], [y_test]))\n",
    "print(cosine_similarity([x_test], [z_test]))"
   ]
  },
  {
   "cell_type": "markdown",
   "metadata": {},
   "source": [
    "Useful functions "
   ]
  },
  {
   "cell_type": "code",
   "execution_count": null,
   "metadata": {},
   "outputs": [],
   "source": [
    "def merge_two_dicts(x, y):\n",
    "    z = x.copy()   # start with x's keys and values\n",
    "    z.update(y)    # modifies z with y's keys and values & returns None\n",
    "    return z"
   ]
  },
  {
   "cell_type": "code",
   "execution_count": null,
   "metadata": {},
   "outputs": [],
   "source": [
    "def dot_product_lists(a,b):\n",
    "    return sum([x*y for x,y in zip(a,b)])"
   ]
  },
  {
   "cell_type": "code",
   "execution_count": null,
   "metadata": {},
   "outputs": [],
   "source": [
    "def wme_to_wmd(x,y,gamma):\n",
    "    kxy = dot_product_lists(x,y)\n",
    "    return -1/gamma*np.log(kxy)"
   ]
  },
  {
   "cell_type": "markdown",
   "metadata": {},
   "source": [
    "Fast implementation of WMD (this is the function effectively used in the experiments)"
   ]
  },
  {
   "cell_type": "code",
   "execution_count": null,
   "metadata": {},
   "outputs": [],
   "source": [
    "# UBER MEGA FAST WMD BY AL\n",
    "\n",
    "from gensim.corpora.dictionary import Dictionary\n",
    "def wmdistance(document1, document2, wvmodel):\n",
    "        from pyemd import emd\n",
    "\n",
    "        # Remove out-of-vocabulary words.\n",
    "        len_pre_oov1 = len(document1)\n",
    "        len_pre_oov2 = len(document2)\n",
    "        remember_me = document2\n",
    "        document2 = ['__qxvca^&3fd?#_!$' +  str(i) for i in range(len(document2))]\n",
    "        diff1 = len_pre_oov1 - len(document1)\n",
    "        diff2 = len_pre_oov2 - len(document2)\n",
    "        if diff1 > 0 or diff2 > 0:\n",
    "            logger.info('Removed %d and %d OOV words from document 1 and 2 (respectively).', diff1, diff2)\n",
    "\n",
    "        if not document1 or not document2:\n",
    "            logger.info(\n",
    "                \"At least one of the documents had no words that were in the vocabulary. \"\n",
    "                \"Aborting (returning inf).\"\n",
    "            )\n",
    "            return float('inf')\n",
    "\n",
    "        dictionary = Dictionary(documents=[document1, document2])\n",
    "        vocab_len = len(dictionary)\n",
    "\n",
    "        if vocab_len == 1:\n",
    "            # Both documents are composed by a single unique token\n",
    "            return 0.0\n",
    "\n",
    "        # Sets for faster look-up.\n",
    "        docset1 = set(document1)\n",
    "        docset2 = set(document2)\n",
    "\n",
    "        wordvecs_random = {document2[i]: remember_me[i] for i in range(len(remember_me))}\n",
    "\n",
    "        # Compute distance matrix.\n",
    "        distance_matrix = np.zeros((vocab_len, vocab_len))\n",
    "        for i, t1 in dictionary.items():\n",
    "            if t1 not in docset1:\n",
    "                continue\n",
    "\n",
    "            for j, t2 in dictionary.items():\n",
    "                if t2 not in docset2 or distance_matrix[i, j] != 0.0:\n",
    "                    continue\n",
    "\n",
    "                # Compute Euclidean distance between word vectors.\n",
    "                distance_matrix[i, j] = distance_matrix[j, i] = np.sqrt(sum((wvmodel[t1] - wordvecs_random[t2])**2))\n",
    "\n",
    "        def nbow(document):\n",
    "            d = np.zeros(vocab_len)\n",
    "            nbow = dictionary.doc2bow(document)  # Word frequencies.\n",
    "            doc_len = len(document)\n",
    "            for idx, freq in nbow:\n",
    "                d[idx] = freq / float(doc_len)  # Normalized word frequencies.\n",
    "            return d\n",
    "\n",
    "        # Compute nBOW representation of documents.\n",
    "        d1 = nbow(document1)\n",
    "        d2 = nbow(document2)\n",
    "\n",
    "        # Compute WMD.\n",
    "        return emd(d1, d2, distance_matrix)"
   ]
  },
  {
   "cell_type": "markdown",
   "metadata": {},
   "source": [
    "Implementation of Word Mover Distance (solved through LP). Next two blocks from: https://github.com/stephenhky/PyWM"
   ]
  },
  {
   "cell_type": "code",
   "execution_count": null,
   "metadata": {},
   "outputs": [],
   "source": [
    "def tokens_to_fracdict(tokens):\n",
    "    cntdict = defaultdict(lambda : 0)\n",
    "    for token in tokens:\n",
    "        cntdict[token] += 1\n",
    "    totalcnt = sum(cntdict.values())\n",
    "    return {token: float(cnt)/totalcnt for token, cnt in cntdict.items()}"
   ]
  },
  {
   "cell_type": "code",
   "execution_count": null,
   "metadata": {},
   "outputs": [],
   "source": [
    "def word_mover_distance_probspec(first_sent_tokens, second_sent_tokens, wvmodel, lpFile=None):\n",
    "    all_tokens = list(set(first_sent_tokens+second_sent_tokens))\n",
    "    wordvecs = {token: wvmodel[token] for token in all_tokens}\n",
    "\n",
    "    first_sent_buckets = tokens_to_fracdict(first_sent_tokens)\n",
    "    second_sent_buckets = tokens_to_fracdict(second_sent_tokens)\n",
    "\n",
    "    T = pulp.LpVariable.dicts('T_matrix', list(product(all_tokens, all_tokens)), lowBound=0)\n",
    "\n",
    "    prob = pulp.LpProblem('WMD', sense=pulp.LpMinimize)\n",
    "    prob += pulp.lpSum([T[token1, token2]*euclidean(wordvecs[token1], wordvecs[token2])\n",
    "                        for token1, token2 in product(all_tokens, all_tokens)])\n",
    "    for token2 in second_sent_buckets:\n",
    "        prob += pulp.lpSum([T[token1, token2] for token1 in first_sent_buckets])==second_sent_buckets[token2]\n",
    "    for token1 in first_sent_buckets:\n",
    "        prob += pulp.lpSum([T[token1, token2] for token2 in second_sent_buckets])==first_sent_buckets[token1]\n",
    "\n",
    "    if lpFile!=None:\n",
    "        prob.writeLP(lpFile)\n",
    "\n",
    "    prob.solve()\n",
    "\n",
    "    return prob"
   ]
  },
  {
   "cell_type": "code",
   "execution_count": null,
   "metadata": {},
   "outputs": [],
   "source": [
    "def WMD_regular(first_sent_tokens, second_sent_tokens, wvmodel, lpFile=None):\n",
    "    prob = word_mover_distance_probspec(first_sent_tokens, second_sent_tokens, wvmodel, lpFile=lpFile)\n",
    "    return pulp.value(prob.objective)"
   ]
  },
  {
   "cell_type": "markdown",
   "metadata": {},
   "source": [
    "We need to define WMD (through LP) also for a random document with random words"
   ]
  },
  {
   "cell_type": "code",
   "execution_count": null,
   "metadata": {},
   "outputs": [],
   "source": [
    "def word_mover_distance_random(documents_token, random_document_vectors, wvmodel, lpFile=None):\n",
    "    #We create a random association between the random_document_vectors and tokens, assuming random vectors to be all different\n",
    "    first_sent_tokens = documents_token\n",
    "    second_sent_tokens = ['__qxvca^&3fd?#_!$' +  str(i) for i in range(len(random_document_vectors))]\n",
    "    \n",
    "    all_tokens = list(set(first_sent_tokens+second_sent_tokens))\n",
    "    wordvecs_document = {token: wvmodel[token] for token in first_sent_tokens}\n",
    "    wordvecs_random = {second_sent_tokens[i]: random_document_vectors[i] for i in range(len(random_document_vectors))}\n",
    "    #print(wordvecs_random)\n",
    "    wordvecs = merge_two_dicts(wordvecs_document,wordvecs_random)\n",
    "\n",
    "    first_sent_buckets = tokens_to_fracdict(first_sent_tokens)\n",
    "    second_sent_buckets = tokens_to_fracdict(second_sent_tokens)\n",
    "\n",
    "    T = pulp.LpVariable.dicts('T_matrix', list(product(all_tokens, all_tokens)), lowBound=0)\n",
    "\n",
    "    prob = pulp.LpProblem('WMD', sense=pulp.LpMinimize)\n",
    "    prob += pulp.lpSum([T[token1, token2]*euclidean(wordvecs[token1], wordvecs[token2])\n",
    "                        for token1, token2 in product(all_tokens, all_tokens)])\n",
    "    for token2 in second_sent_buckets:\n",
    "        prob += pulp.lpSum([T[token1, token2] for token1 in first_sent_buckets])==second_sent_buckets[token2]\n",
    "    for token1 in first_sent_buckets:\n",
    "        prob += pulp.lpSum([T[token1, token2] for token2 in second_sent_buckets])==first_sent_buckets[token1]\n",
    "\n",
    "    if lpFile!=None:\n",
    "        prob.writeLP(lpFile)\n",
    "\n",
    "    prob.solve()\n",
    "\n",
    "    return prob"
   ]
  },
  {
   "cell_type": "code",
   "execution_count": null,
   "metadata": {},
   "outputs": [],
   "source": [
    "def WMD_random(first_sent_tokens, second_sent_tokens, wvmodel, lpFile=None):\n",
    "    prob = word_mover_distance_random(first_sent_tokens, second_sent_tokens, wvmodel, lpFile=lpFile)\n",
    "    return pulp.value(prob.objective)"
   ]
  },
  {
   "cell_type": "markdown",
   "metadata": {},
   "source": [
    "Test of WMD functions"
   ]
  },
  {
   "cell_type": "code",
   "execution_count": null,
   "metadata": {},
   "outputs": [],
   "source": [
    "print(WMD_regular(['hi','bye'],['see','you'],wvmodel))\n",
    "print(WMD_random(['hi','bye'],[wvmodel['see'],wvmodel['you']],wvmodel))\n",
    "print(wmdistance(['hi','bye'],wvmodel['see','you'],wvmodel))"
   ]
  },
  {
   "cell_type": "markdown",
   "metadata": {
    "collapsed": true
   },
   "source": [
    "Implementation of the WME "
   ]
  },
  {
   "cell_type": "code",
   "execution_count": null,
   "metadata": {},
   "outputs": [],
   "source": [
    "def WME_phi(x,w,gamma,wvmodel):\n",
    "    return np.exp( -gamma*wmdistance(x,w,wvmodel))"
   ]
  },
  {
   "cell_type": "code",
   "execution_count": null,
   "metadata": {},
   "outputs": [],
   "source": [
    "def calculate_WME(documents, D_max, R, wvmodel, gamma):\n",
    "    # It must returns a list of text embeddings, i-th element being the embedding of the i-th document\n",
    "    \n",
    "    #Phase 1: Compute v_max and v_min\n",
    "    v_values = [+9999,-9999] # [v_min,v_max]\n",
    "    for doc in documents:\n",
    "        for token in doc:\n",
    "            for x in wvmodel[token]:\n",
    "                v_values[0] = min(v_values[0],x)\n",
    "                v_values[1] = max(v_values[1],x)\n",
    "            \n",
    "    print(\"[v_min, v_max] = \"  + str(v_values))\n",
    "    Z = []\n",
    "    for j in range(R):\n",
    "        print(\"R: \" + str(j+1)+\"/\"+str(R))\n",
    "        D = 1 + np.random.randint(D_max)\n",
    "        random_doc = []\n",
    "        for l in range(D):\n",
    "            word = np.random.uniform(v_values[0],v_values[1],size=300)\n",
    "            word = word*1/np.sqrt(sum(x*x for x in word))\n",
    "            random_doc.append(word)\n",
    "        to_add = [WME_phi(doc,random_doc,gamma,wvmodel) for doc in documents]\n",
    "        #print(\"to_add\" + str(to_add))\n",
    "        Z.append(to_add)\n",
    "    ret_Z = (1/(np.sqrt(R))*np.array(Z).T).tolist()\n",
    "    return ret_Z\n",
    "        \n",
    "        \n",
    "    "
   ]
  },
  {
   "cell_type": "markdown",
   "metadata": {
    "collapsed": true
   },
   "source": [
    "Load the bbcsport_dataset (it can also be used to load other datasets we created)"
   ]
  },
  {
   "cell_type": "code",
   "execution_count": null,
   "metadata": {},
   "outputs": [],
   "source": [
    "f = open('bbcsport_dataset.pckl','rb')\n",
    "obj = pickle.load(f)\n",
    "f.close()\n",
    "name_dataset = obj[0]\n",
    "train_R_X = obj[1]\n",
    "train_R_Y = obj[2]"
   ]
  },
  {
   "cell_type": "code",
   "execution_count": null,
   "metadata": {},
   "outputs": [],
   "source": [
    "sys.path.append('./liblinear-2.21/python/')\n",
    "from liblinearutil import *"
   ]
  },
  {
   "cell_type": "markdown",
   "metadata": {},
   "source": [
    "Map string labels into integers"
   ]
  },
  {
   "cell_type": "code",
   "execution_count": null,
   "metadata": {},
   "outputs": [],
   "source": [
    "jj = 0\n",
    "to_number = {}\n",
    "for x in set(train_R_Y):\n",
    "    to_number[x] = jj\n",
    "    jj = jj + 1\n",
    "int_train_R_Y = [to_number[x] for x in train_R_Y]"
   ]
  },
  {
   "cell_type": "markdown",
   "metadata": {},
   "source": [
    "Cross-validation. You can set the R_values, D_values and gamma_values to test. For the classification, we use the the LIBLINEAR library imported above. The results of the experiments and the output embeddings are stored - for each value of R and gamma - in pickle files.\n",
    "\n",
    "See the code for the structure of the pickle files and their names."
   ]
  },
  {
   "cell_type": "code",
   "execution_count": null,
   "metadata": {},
   "outputs": [],
   "source": [
    "CV = 10\n",
    "R_values = [ 8, 16, 32, 64 , 128, 256 ]\n",
    "D_values = [ 6 ]\n",
    "gamma_values = [ 0.1 , 1, 10 ]\n",
    "N = len(train_R_X)\n",
    "\n",
    "for R_val in R_values:\n",
    "    for D_val in D_values:\n",
    "        for gamma_val in gamma_values: \n",
    "            print(\"Using R = \" + str(R_val) + \", D = \" + str(D_val) + \", gamma = \" + str(gamma_val))\n",
    "            embedding_points = calculate_WME(train_R_X,D_val,R_val,wvmodel,gamma_val)\n",
    "            best_accuracy = -1\n",
    "            best_lambda = 'boh'\n",
    "            best_std = 0\n",
    "            lamda_inverse = ['1e2', '3e2', '5e2', '8e2', '1e3', '3e3', '5e3', '8e3', '1e4', '3e4', '5e4', '8e4', '1e5' ,'3e5' ,'8e5' ,'1e6', '3e6', '7e6' ,'1e7' ,'5e7' ,'3e8' ,'1e9']\n",
    "            for lambda_val in lamda_inverse:\n",
    "                accuracy_vector = []\n",
    "                kf = KFold(n_splits=10)\n",
    "                kf.get_n_splits(embedding_points)\n",
    "                for train_index, test_index in kf.split(embedding_points):\n",
    "                    X_train = np.array(embedding_points)[train_index]\n",
    "                    X_test = np.array(embedding_points)[test_index]\n",
    "                    \n",
    "                    Y_train = np.array(int_train_R_Y)[train_index]\n",
    "                    Y_test = np.array(int_train_R_Y)[test_index]\n",
    "                    \n",
    "                    prob = problem(Y_train,X_train)\n",
    "                    param = parameter('-s 2 -e 0.0001 -q -c ' + lambda_val)\n",
    "                    m = train(prob,param)\n",
    "                    p_label, p_acc, p= predict(Y_test, X_test, m)\n",
    "                    ACC, MSE, SCC = evaluations(Y_test, p_label)\n",
    "                    accuracy_vector.append(ACC)\n",
    "                avg_ACC = np.mean(accuracy_vector)\n",
    "                std_ACC = np.std(accuracy_vector)\n",
    "                if(avg_ACC > best_accuracy):\n",
    "                    \n",
    "                    best_accuracy = avg_ACC\n",
    "                    best_lambda = lambda_val\n",
    "                    best_std = std_ACC\n",
    "            \n",
    "            print(\"R = \" + str(R_val) + \" D = \" + str(D_val) + \" gamma = \" + str(gamma_val) + \" accuracy = \" + str(best_accuracy))\n",
    "            #We need to save datas here\n",
    "            f = open('newsgroup_WME-R'+str(R_val)+\"-D\"+str(D_val)+\"-gamma\"+str(gamma_val)+ '.pckl','wb')\n",
    "            obj = [train_R_X,D_val,R_val,gamma_val,embedding_points,best_accuracy, best_std,best_lambda]\n",
    "            pickle.dump(obj, f) \n",
    "            f.close()"
   ]
  },
  {
   "cell_type": "markdown",
   "metadata": {},
   "source": [
    "Import the results of the experiments on bbcsport ran above from pickle files"
   ]
  },
  {
   "cell_type": "code",
   "execution_count": 25,
   "metadata": {},
   "outputs": [],
   "source": [
    "file_name = \"^bbcsport_WME*\"\n",
    "files = [f for f in os.listdir('.') if os.path.isfile(f)]\n",
    "objs = []\n",
    "i = 0\n",
    "for f in files:\n",
    "    if(re.search(file_name, f)):\n",
    "        obj = load_pickle(f)\n",
    "        o.close()\n",
    "        objs[f] = obj"
   ]
  },
  {
   "cell_type": "markdown",
   "metadata": {},
   "source": [
    "Useful function to extract the results of a run from R,D and gamma"
   ]
  },
  {
   "cell_type": "code",
   "execution_count": 37,
   "metadata": {},
   "outputs": [],
   "source": [
    "def extract_stats(Rx,Dx,gammax):\n",
    "    for keys in objs:\n",
    "        if( (objs[keys][1] == Dx) and (objs[keys][2] == Rx) and objs[keys][3] == gammax):\n",
    "            return [objs[keys][5],objs[keys][6]]"
   ]
  },
  {
   "cell_type": "code",
   "execution_count": 67,
   "metadata": {},
   "outputs": [
    {
     "data": {
      "image/png": "[encoded data removed]",
      "text/plain": [
       "<Figure size 432x288 with 1 Axes>"
      ]
     },
     "metadata": {
      "needs_background": "light"
     },
     "output_type": "display_data"
    }
   ],
   "source": [
    "gamma = 0.1\n",
    "D = 6\n",
    "Rs = [8,16,32,64,128]\n",
    "accs = []\n",
    "for R in Rs:\n",
    "    accuracy, std = extract_stats(R,D,gamma)\n",
    "    accs.append(accuracy)\n",
    "\n",
    "plt.figure(6)\n",
    "plt.plot(Rs, accs, marker='o', markersize=5)\n",
    "plt.xlabel('R')\n",
    "plt.ylabel('Accuracy %')\n",
    "plt.title('bbcsports - gamma = 0.1, D = 6')\n",
    "plt.show()"
   ]
  },
  {
   "cell_type": "code",
   "execution_count": 69,
   "metadata": {},
   "outputs": [
    {
     "data": {
      "image/png": "[encoded data removed]",
      "text/plain": [
       "<Figure size 432x288 with 1 Axes>"
      ]
     },
     "metadata": {
      "needs_background": "light"
     },
     "output_type": "display_data"
    }
   ],
   "source": [
    "R = 128\n",
    "gammas = [0.01, 0.1, 1, 10]\n",
    "D = 6\n",
    "accs = []\n",
    "for gamma in gammas:\n",
    "    accuracy, std = extract_stats(R,D,gamma)\n",
    "    accs.append(accuracy)\n",
    "    \n",
    "plt.figure(6)\n",
    "plt.plot(gammas, accs, marker='o', markersize=5)\n",
    "plt.xscale('log')\n",
    "plt.xlabel('gamma')\n",
    "plt.ylabel('accuracy %')\n",
    "plt.title('bbcsports - R = 128, D = 6')\n",
    "plt.show() \n"
   ]
  },
  {
   "cell_type": "code",
   "execution_count": 70,
   "metadata": {},
   "outputs": [
    {
     "data": {
      "text/html": [
       "<table><tr style=\"height:50px; \"><td>R=512, D=6, gamma=0.1</td><td>Accuracy</td><td>std</td></tr><tr style=\"height:50px\"><td>Dataset: bbcsport</td><td>97.6</td><td>1.87</td></tr></table>"
      ],
      "text/plain": [
       "<IPython.core.display.HTML object>"
      ]
     },
     "metadata": {},
     "output_type": "display_data"
    }
   ],
   "source": [
    "from IPython.display import HTML, display\n",
    "\n",
    "R = 512\n",
    "D = 6\n",
    "gamma = 0.1\n",
    "\n",
    "accuracy, std = extract_stats(R,D,gamma)\n",
    "data = [['R=512, D=6, gamma=0.1','Accuracy','std'],\n",
    "        ['Dataset: bbcsport',round(accuracy,2),round(std,2)]\n",
    "        ]\n",
    "\n",
    "display(HTML(\n",
    "   '<table><tr style=\"height:50px; \">{}</tr></table>'.format(\n",
    "       '</tr><tr style=\"height:50px\">'.join(\n",
    "           '<td>{}</td>'.format('</td><td>'.join(str(_) for _ in row)) for row in data)\n",
    "       )\n",
    "))"
   ]
  },
  {
   "cell_type": "code",
   "execution_count": null,
   "metadata": {},
   "outputs": [],
   "source": []
  }
 ],
 "metadata": {
  "kernelspec": {
   "display_name": "Python 3",
   "language": "python",
   "name": "python3"
  },
  "language_info": {
   "codemirror_mode": {
    "name": "ipython",
    "version": 3
   },
   "file_extension": ".py",
   "mimetype": "text/x-python",
   "name": "python",
   "nbconvert_exporter": "python",
   "pygments_lexer": "ipython3",
   "version": "3.7.0"
  }
 },
 "nbformat": 4,
 "nbformat_minor": 2
}
