{
 "cells": [
  {
   "cell_type": "code",
   "execution_count": 1,
   "metadata": {
    "collapsed": true
   },
   "outputs": [],
   "source": [
    "import gensim\n",
    "wvmodel = gensim.models.KeyedVectors.load_word2vec_format(r'GoogleNews-vectors-negative300.bin',binary=True)"
   ]
  },
  {
   "cell_type": "code",
   "execution_count": 2,
   "metadata": {
    "collapsed": true
   },
   "outputs": [],
   "source": [
    "#import nltk\n",
    "#nltk.download('stopwords')\n",
    "#nltk.download('punkt')\n",
    "import os\n",
    "from nltk.corpus import stopwords \n",
    "from nltk.tokenize import word_tokenize \n",
    "from nltk.tokenize import RegexpTokenizer\n",
    "from os import listdir\n",
    "from os.path import isfile, join\n",
    "import numpy as np\n",
    "\n",
    "\n",
    "def process_doc(doc):\n",
    "    doc = doc.lower()\n",
    "    tokenizer = RegexpTokenizer(r'\\w+')\n",
    "    word_tokens = tokenizer.tokenize(doc)\n",
    "\n",
    "    stop_words = set(stopwords.words('english')) \n",
    "    filtered_sentence = []\n",
    "    for w in word_tokens:\n",
    "        if (not w in stop_words) and (w in wvmodel):\n",
    "            filtered_sentence.append(w)\n",
    "            \n",
    "    return filtered_sentence"
   ]
  },
  {
   "cell_type": "code",
   "execution_count": 9,
   "metadata": {
    "collapsed": true
   },
   "outputs": [],
   "source": [
    "import io\n",
    "def parser(d, f):\n",
    "    file = io.open('./bbcsport_dataset/'+d+'/'+f, 'r', encoding=\"utf8\")\n",
    "    string = file.read()\n",
    "    file.close()\n",
    "    return process_doc(string)"
   ]
  },
  {
   "cell_type": "code",
   "execution_count": 10,
   "metadata": {},
   "outputs": [],
   "source": [
    "\n",
    "dirs = [d for d in os.listdir('bbcsport_dataset') if not isfile(join('bbcsport_dataset', d))]\n",
    "train_X = []\n",
    "train_Y = []\n",
    "namefile = []\n",
    "for d in dirs:\n",
    "    for root, dirs, files in os.walk('./bbcsport_dataset/'+d):  \n",
    "        index_to_pick = [i for i in range(len(files))]\n",
    "        np.random.shuffle(index_to_pick)\n",
    "        for i in index_to_pick[0:75]:\n",
    "            train_X.append(parser(d, files[i]))\n",
    "            train_Y.append(d)\n",
    "            namefile.append(files[i])"
   ]
  },
  {
   "cell_type": "code",
   "execution_count": 11,
   "metadata": {
    "collapsed": true
   },
   "outputs": [],
   "source": [
    "import pickle \n",
    "index = np.arange(len(train_X))\n",
    "np.random.shuffle(index)\n",
    "x=np.asarray(train_X)\n",
    "y=np.asarray(train_Y)\n",
    "train_X_random = x[index]\n",
    "train_Y_random = y[index]\n",
    "obj = ['bbcsport_dataset', train_X_random, train_Y_random] \n",
    "f = open('bbcsport_dataset.pckl', 'wb') \n",
    "pickle.dump(obj, f) \n",
    "f.close()"
   ]
  },
  {
   "cell_type": "code",
   "execution_count": 20,
   "metadata": {},
   "outputs": [
    {
     "name": "stdout",
     "output_type": "stream",
     "text": [
      "['tennis' 'football' 'cricket' 'cricket' 'football' 'rugby' 'rugby'\n",
      " 'football' 'athletics' 'cricket' 'athletics' 'cricket' 'tennis'\n",
      " 'athletics' 'rugby' 'tennis' 'rugby' 'athletics' 'tennis' 'cricket'\n",
      " 'athletics' 'cricket' 'athletics' 'cricket' 'cricket' 'tennis' 'cricket'\n",
      " 'football' 'football' 'cricket' 'athletics' 'cricket' 'tennis' 'cricket'\n",
      " 'rugby' 'athletics' 'football' 'cricket' 'athletics' 'tennis' 'athletics'\n",
      " 'cricket' 'football' 'cricket' 'cricket' 'athletics' 'football'\n",
      " 'athletics' 'athletics' 'rugby' 'athletics' 'athletics' 'athletics'\n",
      " 'tennis' 'rugby' 'rugby' 'tennis' 'football' 'tennis' 'rugby' 'athletics'\n",
      " 'rugby' 'cricket' 'cricket' 'athletics' 'rugby' 'athletics' 'athletics'\n",
      " 'football' 'rugby' 'athletics' 'athletics' 'athletics' 'football'\n",
      " 'football' 'cricket' 'rugby' 'tennis' 'athletics' 'tennis' 'cricket'\n",
      " 'football' 'cricket' 'tennis' 'athletics' 'athletics' 'rugby' 'tennis'\n",
      " 'cricket' 'athletics' 'rugby' 'tennis' 'cricket' 'cricket' 'football'\n",
      " 'tennis' 'tennis' 'cricket' 'rugby' 'tennis' 'football' 'cricket' 'rugby'\n",
      " 'cricket' 'athletics' 'athletics' 'rugby' 'football' 'tennis' 'tennis'\n",
      " 'athletics' 'rugby' 'football' 'football' 'athletics' 'rugby' 'football'\n",
      " 'cricket' 'athletics' 'football' 'tennis' 'football' 'rugby' 'cricket'\n",
      " 'football' 'football' 'rugby' 'rugby' 'athletics' 'cricket' 'athletics'\n",
      " 'football' 'rugby' 'tennis' 'football' 'football' 'rugby' 'athletics'\n",
      " 'tennis' 'football' 'cricket' 'football' 'tennis' 'tennis' 'football'\n",
      " 'football' 'tennis' 'tennis' 'football' 'athletics' 'tennis' 'cricket'\n",
      " 'cricket' 'cricket' 'rugby' 'athletics' 'tennis' 'football' 'rugby'\n",
      " 'athletics' 'football' 'football' 'football' 'football' 'rugby' 'tennis'\n",
      " 'tennis' 'tennis' 'rugby' 'athletics' 'football' 'athletics' 'cricket'\n",
      " 'tennis' 'rugby' 'football' 'tennis' 'rugby' 'rugby' 'football' 'cricket'\n",
      " 'cricket' 'athletics' 'football' 'rugby' 'athletics' 'rugby' 'athletics'\n",
      " 'athletics' 'tennis' 'rugby' 'athletics' 'rugby' 'rugby' 'cricket'\n",
      " 'cricket' 'cricket' 'cricket' 'athletics' 'football' 'rugby' 'football'\n",
      " 'cricket' 'rugby' 'rugby' 'tennis' 'football' 'athletics' 'tennis'\n",
      " 'athletics' 'tennis' 'tennis' 'football' 'football' 'rugby' 'athletics'\n",
      " 'tennis' 'athletics' 'football' 'rugby' 'rugby' 'rugby' 'athletics'\n",
      " 'athletics' 'cricket' 'football' 'cricket' 'tennis' 'athletics' 'rugby'\n",
      " 'rugby' 'cricket' 'athletics' 'rugby' 'rugby' 'cricket' 'football' 'rugby'\n",
      " 'athletics' 'cricket' 'athletics' 'rugby' 'cricket' 'tennis' 'rugby'\n",
      " 'rugby' 'rugby' 'rugby' 'tennis' 'rugby' 'rugby' 'football' 'rugby'\n",
      " 'rugby' 'rugby' 'rugby' 'football' 'athletics' 'athletics' 'football'\n",
      " 'football' 'rugby' 'football' 'football' 'tennis' 'tennis' 'tennis'\n",
      " 'tennis' 'athletics' 'tennis' 'tennis' 'cricket' 'cricket' 'tennis'\n",
      " 'athletics' 'athletics' 'athletics' 'tennis' 'football' 'cricket' 'tennis'\n",
      " 'tennis' 'tennis' 'athletics' 'rugby' 'cricket' 'tennis' 'football'\n",
      " 'tennis' 'football' 'football' 'rugby' 'cricket' 'cricket' 'tennis'\n",
      " 'cricket' 'football' 'athletics' 'tennis' 'rugby' 'athletics' 'tennis'\n",
      " 'tennis' 'football' 'athletics' 'football' 'football' 'cricket' 'cricket'\n",
      " 'football' 'athletics' 'athletics' 'rugby' 'tennis' 'athletics' 'tennis'\n",
      " 'football' 'tennis' 'cricket' 'tennis' 'athletics' 'cricket' 'cricket'\n",
      " 'cricket' 'rugby' 'athletics' 'football' 'tennis' 'cricket' 'tennis'\n",
      " 'football' 'football' 'athletics' 'rugby' 'tennis' 'tennis' 'athletics'\n",
      " 'cricket' 'rugby' 'rugby' 'cricket' 'football' 'tennis' 'cricket'\n",
      " 'cricket' 'football' 'cricket' 'cricket' 'athletics' 'football' 'tennis'\n",
      " 'cricket' 'football' 'rugby' 'football' 'tennis' 'cricket' 'cricket'\n",
      " 'football' 'rugby' 'athletics' 'rugby' 'cricket' 'cricket' 'tennis'\n",
      " 'cricket' 'cricket' 'tennis' 'rugby' 'tennis' 'tennis' 'rugby' 'football'\n",
      " 'rugby' 'football']\n"
     ]
    }
   ],
   "source": [
    "print(train_Y_random)"
   ]
  },
  {
   "cell_type": "code",
   "execution_count": null,
   "metadata": {
    "collapsed": true
   },
   "outputs": [],
   "source": []
  }
 ],
 "metadata": {
  "kernelspec": {
   "display_name": "Python 2",
   "language": "python",
   "name": "python2"
  }
 },
 "nbformat": 4,
 "nbformat_minor": 2
}
