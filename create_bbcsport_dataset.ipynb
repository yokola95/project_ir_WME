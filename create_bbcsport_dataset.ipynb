{
 "cells": [
  {
   "cell_type": "code",
   "execution_count": 4,
   "metadata": {},
   "outputs": [],
   "source": [
    "import gensim\n",
    "wvmodel = gensim.models.KeyedVectors.load_word2vec_format(r'GoogleNews-vectors-negative300.bin',binary=True)"
   ]
  },
  {
   "cell_type": "code",
   "execution_count": 5,
   "metadata": {},
   "outputs": [],
   "source": [
    "#import nltk\n",
    "#nltk.download('stopwords')\n",
    "#nltk.download('punkt')\n",
    "import os\n",
    "from nltk.corpus import stopwords \n",
    "from nltk.tokenize import word_tokenize \n",
    "from nltk.tokenize import RegexpTokenizer\n",
    "from os import listdir\n",
    "from os.path import isfile, join\n",
    "import numpy as np\n",
    "\n",
    "\n",
    "def process_doc(doc):\n",
    "    doc = doc.lower()\n",
    "    tokenizer = RegexpTokenizer(r'\\w+')\n",
    "    word_tokens = tokenizer.tokenize(doc)\n",
    "\n",
    "    stop_words = set(stopwords.words('english')) \n",
    "    filtered_sentence = []\n",
    "    for w in word_tokens:\n",
    "        if (not w in stop_words) and (w in wvmodel):\n",
    "            filtered_sentence.append(w)\n",
    "            \n",
    "    return filtered_sentence"
   ]
  },
  {
   "cell_type": "code",
   "execution_count": 6,
   "metadata": {},
   "outputs": [],
   "source": [
    "def parser(d, f):\n",
    "    file = open('./bbcsport_dataset/'+d+'/'+f, 'r', encoding=\"utf8\", errors='ignore')\n",
    "    string = file.read()\n",
    "    file.close()\n",
    "    return process_doc(string)"
   ]
  },
  {
   "cell_type": "code",
   "execution_count": 36,
   "metadata": {},
   "outputs": [],
   "source": [
    "dirs = [d for d in os.listdir('bbcsport_dataset') if not isfile(join('bbcsport_dataset', d))]\n",
    "train_X = []\n",
    "train_Y = []\n",
    "namefile = []\n",
    "for d in dirs:\n",
    "    for root, dirs, files in os.walk('./bbcsport_dataset/'+d):  \n",
    "        index_to_pick = [i for i in range(len(files))]\n",
    "        np.random.shuffle(index_to_pick)\n",
    "        for i in index_to_pick[0:75]:\n",
    "            train_X.append(parser(d, files[i]))\n",
    "            train_Y.append(d)\n",
    "            namefile.append(files[i])"
   ]
  },
  {
   "cell_type": "code",
   "execution_count": 42,
   "metadata": {},
   "outputs": [],
   "source": [
    "import pickle \n",
    "index = np.arange(len(train_X))\n",
    "np.random.shuffle(index)\n",
    "x=np.asarray(train_X)\n",
    "y=np.asarray(train_Y)\n",
    "train_X_random = x[index]\n",
    "train_Y_random = y[index]\n",
    "obj = ['bbcsport_dataset', train_X_random, train_Y_random] \n",
    "f = open('bbcsport_dataset.pckl', 'wb') \n",
    "pickle.dump(obj, f) \n",
    "f.close()"
   ]
  },
  {
   "cell_type": "code",
   "execution_count": null,
   "metadata": {},
   "outputs": [],
   "source": []
  }
 ],
 "metadata": {
  "kernelspec": {
   "display_name": "Python 3",
   "language": "python",
   "name": "python3"
  },
  "language_info": {
   "codemirror_mode": {
    "name": "ipython",
    "version": 3
   },
   "file_extension": ".py",
   "mimetype": "text/x-python",
   "name": "python",
   "nbconvert_exporter": "python",
   "pygments_lexer": "ipython3",
   "version": "3.7.0"
  }
 },
 "nbformat": 4,
 "nbformat_minor": 2
}
