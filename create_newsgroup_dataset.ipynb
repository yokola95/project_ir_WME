{
 "cells": [
  {
   "cell_type": "code",
   "execution_count": 28,
   "metadata": {},
   "outputs": [],
   "source": [
    "import gensim\n",
    "wvmodel = gensim.models.KeyedVectors.load_word2vec_format(r'GoogleNews-vectors-negative300.bin',binary=True)"
   ]
  },
  {
   "cell_type": "code",
   "execution_count": 102,
   "metadata": {},
   "outputs": [],
   "source": [
    "#import nltk\n",
    "#nltk.download('stopwords')\n",
    "#nltk.download('punkt')\n",
    "import os\n",
    "from nltk.corpus import stopwords \n",
    "from nltk.tokenize import word_tokenize \n",
    "from nltk.tokenize import RegexpTokenizer\n",
    "from os import listdir\n",
    "from os.path import isfile, join\n",
    "import numpy as np\n",
    "\n",
    "vocab = (open(\"mini_newsgroups/vocabulary.txt\",\"r\", encoding=\"utf8\", errors='ignore')).read()\n",
    "def process_doc(doc):\n",
    "    doc = doc.lower()\n",
    "    tokenizer = RegexpTokenizer(r'\\w+')\n",
    "    word_tokens = tokenizer.tokenize(doc)\n",
    "\n",
    "    stop_words = set(stopwords.words('english')) \n",
    "    filtered_sentence = []\n",
    "    for w in word_tokens:\n",
    "        if not w in stop_words and \"\\n\"+w+\"\\n\" in vocab and w in wvmodel:\n",
    "            filtered_sentence.append(w)\n",
    "            \n",
    "    return filtered_sentence"
   ]
  },
  {
   "cell_type": "code",
   "execution_count": 103,
   "metadata": {},
   "outputs": [],
   "source": [
    "def parser(d, f):\n",
    "    file = open('./mini_newsgroups/'+d+'/'+f, 'r', encoding=\"utf8\", errors='ignore')\n",
    "    string = file.read()\n",
    "    file.close()\n",
    "    return process_doc(string)"
   ]
  },
  {
   "cell_type": "code",
   "execution_count": 157,
   "metadata": {},
   "outputs": [],
   "source": [
    "dirs = [d for d in os.listdir('mini_newsgroups') if not isfile(join('mini_newsgroups', d))]\n",
    "train_X = []\n",
    "train_Y = []\n",
    "namefile = []\n",
    "for d in dirs:\n",
    "    for root, dirs, files in os.walk('./mini_newsgroups/'+d):  \n",
    "        index_to_pick = [i for i in range(len(files))]\n",
    "        np.random.shuffle(index_to_pick)\n",
    "        for i in index_to_pick[0:100]:\n",
    "            train_X.append(parser(d, files[i]))\n",
    "            train_Y.append(d)\n",
    "            namefile.append(files[i])"
   ]
  },
  {
   "cell_type": "code",
   "execution_count": 170,
   "metadata": {},
   "outputs": [],
   "source": [
    "from collections import Counter\n",
    "\n",
    "for i in range(len(train_X)):\n",
    "    if len(set(train_X[i])) >= 150:\n",
    "        words = Counter(train_X[i]).most_common()\n",
    "        train_X[i] = []\n",
    "        picked = 0\n",
    "        for h in range(150):\n",
    "            if(words[h][1] > 1):\n",
    "                for j in range(words[h][1]):\n",
    "                    train_X[i].append(words[h][0])\n",
    "                picked+=1\n",
    "            else:\n",
    "                break\n",
    "        indexes = [x for x in range(picked,len(words))]\n",
    "        np.random.shuffle(indexes)\n",
    "        for h in range(150-picked):\n",
    "            train_X[i].append(words[indexes[h]])\n",
    "   "
   ]
  },
  {
   "cell_type": "code",
   "execution_count": 176,
   "metadata": {},
   "outputs": [],
   "source": [
    "import pickle \n",
    "obj = ['newsgroup_dataset', train_X, train_Y] \n",
    "f = open('newsgroup_dataset.pckl', 'wb') \n",
    "pickle.dump(obj, f) \n",
    "f.close()"
   ]
  }
 ],
 "metadata": {
  "kernelspec": {
   "display_name": "Python 3",
   "language": "python",
   "name": "python3"
  },
  "language_info": {
   "codemirror_mode": {
    "name": "ipython",
    "version": 3
   },
   "file_extension": ".py",
   "mimetype": "text/x-python",
   "name": "python",
   "nbconvert_exporter": "python",
   "pygments_lexer": "ipython3",
   "version": "3.7.0"
  }
 },
 "nbformat": 4,
 "nbformat_minor": 2
}
