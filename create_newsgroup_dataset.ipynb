{
 "cells": [
  {
   "cell_type": "code",
   "execution_count": 17,
   "metadata": {},
   "outputs": [],
   "source": [
    "import gensim\n",
    "wvmodel = gensim.models.KeyedVectors.load_word2vec_format(r'GoogleNews-vectors-negative300.bin',binary=True)"
   ]
  },
  {
   "cell_type": "code",
   "execution_count": 87,
   "metadata": {},
   "outputs": [],
   "source": [
    "#import nltk\n",
    "#nltk.download('stopwords')\n",
    "#nltk.download('punkt')\n",
    "import os\n",
    "from nltk.corpus import stopwords \n",
    "from nltk.tokenize import word_tokenize \n",
    "from nltk.tokenize import RegexpTokenizer\n",
    "from os import listdir\n",
    "from os.path import isfile, join\n",
    "import numpy as np\n",
    "\n",
    "vocab = (open(\"mini_newsgroups/vocabulary.txt\",\"r\", encoding=\"utf8\", errors='ignore')).read()\n",
    "def process_doc(doc):\n",
    "    doc = doc.lower()\n",
    "    tokenizer = RegexpTokenizer(r'\\w+')\n",
    "    word_tokens = tokenizer.tokenize(doc)\n",
    "\n",
    "    stop_words = set(stopwords.words('english')) \n",
    "    filtered_sentence = []\n",
    "    for w in word_tokens:\n",
    "        if (not w in stop_words) and (\"\\n\"+w+\"\\n\" in vocab) and (w in wvmodel):\n",
    "            filtered_sentence.append(w)\n",
    "            \n",
    "    return filtered_sentence"
   ]
  },
  {
   "cell_type": "code",
   "execution_count": 88,
   "metadata": {},
   "outputs": [],
   "source": [
    "def parser(d, f):\n",
    "    file = open('./mini_newsgroups/'+d+'/'+f, 'r', encoding=\"utf8\", errors='ignore')\n",
    "    string = file.read()\n",
    "    file.close()\n",
    "    return process_doc(string)"
   ]
  },
  {
   "cell_type": "code",
   "execution_count": 89,
   "metadata": {},
   "outputs": [],
   "source": [
    "dirs = [d for d in os.listdir('mini_newsgroups') if not isfile(join('mini_newsgroups', d))]\n",
    "train_X = []\n",
    "train_Y = []\n",
    "namefile = []\n",
    "for d in dirs:\n",
    "    for root, dirs, files in os.walk('./mini_newsgroups/'+d):  \n",
    "        index_to_pick = [i for i in range(len(files))]\n",
    "        np.random.shuffle(index_to_pick)\n",
    "        for i in index_to_pick[0:100]:\n",
    "            train_X.append(parser(d, files[i]))\n",
    "            train_Y.append(d)\n",
    "            namefile.append(files[i])"
   ]
  },
  {
   "cell_type": "code",
   "execution_count": 85,
   "metadata": {},
   "outputs": [],
   "source": [
    "from collections import Counter\n",
    "\n",
    "for i in range(len(train_X)):\n",
    "    if len(set(train_X[i])) >= 150:\n",
    "        words = Counter(train_X[i]).most_common()\n",
    "        train_X[i] = []\n",
    "        picked = 0\n",
    "        for h in range(150):\n",
    "            if(words[h][1] > 1):\n",
    "                for j in range(words[h][1]):\n",
    "                    train_X[i].append(words[h][0])\n",
    "                picked+=1\n",
    "            else:\n",
    "                break\n",
    "        indexes = [x for x in range(picked,len(words))]\n",
    "        np.random.shuffle(indexes)\n",
    "        for h in range(150-picked):\n",
    "            train_X[i].append(words[indexes[h]][0])"
   ]
  },
  {
   "cell_type": "code",
   "execution_count": 90,
   "metadata": {},
   "outputs": [],
   "source": [
    "import pickle \n",
    "obj = ['newsgroup_dataset', train_X, train_Y] \n",
    "f = open('newsgroup_dataset.pckl', 'wb') \n",
    "pickle.dump(obj, f) \n",
    "f.close()"
   ]
  },
  {
   "cell_type": "code",
   "execution_count": 84,
   "metadata": {},
   "outputs": [],
   "source": [
    "from gensim.corpora.dictionary import Dictionary\n",
    "def wmdistance(document1, document2, wvmodel):\n",
    "        from pyemd import emd\n",
    "\n",
    "        # Remove out-of-vocabulary words.\n",
    "        len_pre_oov1 = len(document1)\n",
    "        len_pre_oov2 = len(document2)\n",
    "        remember_me = document2\n",
    "        document2 = ['__qxvca^&3fd?#_!$' +  str(i) for i in range(len(document2))]\n",
    "        diff1 = len_pre_oov1 - len(document1)\n",
    "        diff2 = len_pre_oov2 - len(document2)\n",
    "        if diff1 > 0 or diff2 > 0:\n",
    "            logger.info('Removed %d and %d OOV words from document 1 and 2 (respectively).', diff1, diff2)\n",
    "\n",
    "        if not document1 or not document2:\n",
    "            logger.info(\n",
    "                \"At least one of the documents had no words that were in the vocabulary. \"\n",
    "                \"Aborting (returning inf).\"\n",
    "            )\n",
    "            return float('inf')\n",
    "\n",
    "        dictionary = Dictionary(documents=[document1, document2])\n",
    "        vocab_len = len(dictionary)\n",
    "\n",
    "        if vocab_len == 1:\n",
    "            # Both documents are composed by a single unique token\n",
    "            return 0.0\n",
    "\n",
    "        # Sets for faster look-up.\n",
    "        docset1 = set(document1)\n",
    "        docset2 = set(document2)\n",
    "\n",
    "        wordvecs_random = {document2[i]: remember_me[i] for i in range(len(remember_me))}\n",
    "\n",
    "        # Compute distance matrix.\n",
    "        distance_matrix = np.zeros((vocab_len, vocab_len))\n",
    "        for i, t1 in dictionary.items():\n",
    "            if t1 not in docset1:\n",
    "                continue\n",
    "\n",
    "            for j, t2 in dictionary.items():\n",
    "                if t2 not in docset2 or distance_matrix[i, j] != 0.0:\n",
    "                    continue\n",
    "\n",
    "                # Compute Euclidean distance between word vectors.\n",
    "                distance_matrix[i, j] = distance_matrix[j, i] = np.sqrt(sum((wvmodel[t1] - wordvecs_random[t2])**2))\n",
    "\n",
    "        def nbow(document):\n",
    "            d = np.zeros(vocab_len)\n",
    "            nbow = dictionary.doc2bow(document)  # Word frequencies.\n",
    "            doc_len = len(document)\n",
    "            for idx, freq in nbow:\n",
    "                d[idx] = freq / float(doc_len)  # Normalized word frequencies.\n",
    "            return d\n",
    "\n",
    "        # Compute nBOW representation of documents.\n",
    "        d1 = nbow(document1)\n",
    "        d2 = nbow(document2)\n",
    "\n",
    "        # Compute WMD.\n",
    "        return emd(d1, d2, distance_matrix)\n"
   ]
  },
  {
   "cell_type": "code",
   "execution_count": null,
   "metadata": {},
   "outputs": [],
   "source": []
  }
 ],
 "metadata": {
  "kernelspec": {
   "display_name": "Python 3",
   "language": "python",
   "name": "python3"
  },
  "language_info": {
   "codemirror_mode": {
    "name": "ipython",
    "version": 3
   },
   "file_extension": ".py",
   "mimetype": "text/x-python",
   "name": "python",
   "nbconvert_exporter": "python",
   "pygments_lexer": "ipython3",
   "version": "3.7.0"
  }
 },
 "nbformat": 4,
 "nbformat_minor": 2
}
